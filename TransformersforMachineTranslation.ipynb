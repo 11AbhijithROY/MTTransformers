{
 "cells": [
  {
   "cell_type": "markdown",
   "id": "19c5edd8",
   "metadata": {},
   "source": [
    "__Group Name__ : __Data Dynamo__\n",
    "1. Roy, Abhijith; `abhijithroy.roy@carelon.com`,\n",
    "2. Acharya, Ananth; `ananth.acharya@carelon.com`; \n",
    "3. Kumar, Diwakar; `diwakar.kumar@carelon.com`; \n",
    "4. Gouse, Mohammad; `mohammad.gouse@carelon.com`;\n",
    "5. Peketi, Santhosh; `santhosh.peketi@carelon.com`, "
   ]
  },
  {
   "cell_type": "markdown",
   "id": "4e644967",
   "metadata": {},
   "source": [
    "## Coding Transformer from scratch to perform Machine Translation Task"
   ]
  },
  {
   "cell_type": "markdown",
   "id": "33acbd31",
   "metadata": {
    "id": "_GEDUbWFD2ut"
   },
   "source": [
    "__The dataset is a subset of the IWSLT dataset consisting of TEDx Talks that are available in both french and english parallel corpuses__"
   ]
  },
  {
   "cell_type": "markdown",
   "id": "b9a72c1c",
   "metadata": {
    "id": "xxnbBPmPixA7"
   },
   "source": [
    "## Importing Dependencies"
   ]
  },
  {
   "cell_type": "code",
   "execution_count": 1,
   "id": "a84dc491",
   "metadata": {},
   "outputs": [],
   "source": [
    "import tensorflow as tf\n",
    "from tensorflow.keras import layers\n",
    "from tensorflow.keras.layers import  TextVectorization, Embedding, Layer\n",
    "import numpy as np## Importing Dependencies\n",
    "from tensorflow.keras.losses import SparseCategoricalCrossentropy\n",
    "import re\n",
    "import time\n",
    "from nltk.translate.bleu_score import sentence_bleu"
   ]
  },
  {
   "cell_type": "code",
   "execution_count": 4,
   "id": "1ac82492",
   "metadata": {},
   "outputs": [],
   "source": [
    "try:\n",
    "    %tensorflow_version 2.x\n",
    "except:\n",
    "    pass\n",
    "import tensorflow as tf\n",
    "\n",
    "from tensorflow.keras import layers\n",
    "import tensorflow_datasets as tfds\n",
    "import tensorflow_datasets.core.logging as _tfds_logging"
   ]
  },
  {
   "cell_type": "markdown",
   "id": "d04c74b1",
   "metadata": {
    "id": "i6aPWuOEEVVK"
   },
   "source": [
    "## Loading the train, dev, and test sets of french and english corpora"
   ]
  },
  {
   "cell_type": "code",
   "execution_count": 2,
   "id": "df38513b",
   "metadata": {},
   "outputs": [],
   "source": [
    "with open(r\"C:\\Users\\AL56154\\OneDrive - Elevance Health\\Desktop\\workshop_material\\Total training material\\Transformers_data\\Transformers_data\\train.en\",\n",
    "          mode='r',\n",
    "          encoding='utf-8') as f:\n",
    "    eurotrain_en = f.read()## Loading the train, dev, and test sets of french and english corpora\n",
    "    \n",
    "with open(r\"C:\\Users\\AL56154\\OneDrive - Elevance Health\\Desktop\\workshop_material\\Total training material\\Transformers_data\\Transformers_data\\train.fr\",\n",
    "          mode='r',\n",
    "          encoding='utf-8') as f:\n",
    "    eurotrain_fr = f.read()\n",
    "    \n",
    "with open(r\"C:\\Users\\AL56154\\OneDrive - Elevance Health\\Desktop\\workshop_material\\Total training material\\Transformers_data\\Transformers_data\\dev.en\",\n",
    "          mode='r',\n",
    "          encoding='utf-8') as f:\n",
    "    eurodev_en = f.read()\n",
    "    \n",
    "with open(r\"C:\\Users\\AL56154\\OneDrive - Elevance Health\\Desktop\\workshop_material\\Total training material\\Transformers_data\\Transformers_data\\dev.fr\",\n",
    "          mode='r',\n",
    "          encoding='utf-8') as f:\n",
    "    eurodev_fr = f.read()\n",
    "with open(r\"C:\\Users\\AL56154\\OneDrive - Elevance Health\\Desktop\\workshop_material\\Total training material\\Transformers_data\\Transformers_data\\test.en\",\n",
    "          mode='r',\n",
    "          encoding='utf-8') as f:\n",
    "    eurotest_en = f.read()\n",
    "    \n",
    "with open(r\"C:\\Users\\AL56154\\OneDrive - Elevance Health\\Desktop\\workshop_material\\Total training material\\Transformers_data\\Transformers_data\\test.fr\",\n",
    "          mode='r',\n",
    "          encoding='utf-8') as f:\n",
    "    eurotest_fr = f.read()  \n",
    "    \n",
    "\n"
   ]
  },
  {
   "cell_type": "code",
   "execution_count": 92,
   "id": "62ff87e7",
   "metadata": {},
   "outputs": [
    {
     "data": {
      "text/plain": [
       "\"Vous savez, un des plaisirs intenses du voyage et un des délices de la recherche ethnographique est la possibilité de vivre parmi ceux qui n'ont pas oublié les anciennes coutumes, qui ressentent encore leur passé souffler dans le vent, qui le touchent dans les pierres polies par la pluie, le dégustent dans les feuilles amères des plantes.\\nLe fait de savoir que les Jaguar shaman voyagent toujours au-delà de la voie lactée, ou que les mythes des anciens Inuit résonnent encore de sens, ou bien que dans l'Himalaya, les Bouddhistes continuent à rechercher le souffle du Dharma, c'est se rappeler de la révélation essentielle de l'anthropologie, et cela veut dire que le monde dans lequel nous vivons n'existe pas dans un sens absolu, mais est uniquement un exemple de réalité, la conséquence d'un ensemble spécifique de choix adaptés établis par notre lignée avec succès, il y a plusieurs générations.\\nBien sûr, nous partageons tous les mêmes impératifs d'adaptation.\\nNous sommes tous nés. Nous appo\""
      ]
     },
     "execution_count": 92,
     "metadata": {},
     "output_type": "execute_result"
    }
   ],
   "source": [
    "eurodev_fr[:1000]"
   ]
  },
  {
   "cell_type": "markdown",
   "id": "3db8b7e8",
   "metadata": {
    "id": "xZ9gZSpBEdqY"
   },
   "source": [
    "## Preprocessing the corpus\n",
    "\n",
    "\n",
    "\n",
    "\n"
   ]
  },
  {
   "cell_type": "code",
   "execution_count": 3,
   "id": "247ade30",
   "metadata": {},
   "outputs": [],
   "source": [
    "#CLEANING THE ENGLISH TEXT\n",
    "corpus_en = eurotrain_en\n",
    "corpus_en = re.sub(r\"\\.(?=[0-9]|[a-z]|[A-Z])\",\" \", corpus_en)\n",
    "corpus_en = corpus_en.split('\\n')\n",
    "\n",
    "\n",
    "#CLEANING THE ENGLISH TEXT\n",
    "corpus_en_test = eurotest_en\n",
    "corpus_en_test = re.sub(r\"\\.(?=[0-9]|[a-z]|[A-Z])\",\" \", corpus_en_test)\n",
    "corpus_en_test = corpus_en_test.split('\\n')\n",
    "\n",
    "#CLEANING THE ENGLISH TEXT\n",
    "corpus_fr_test = eurotest_fr\n",
    "corpus_fr_test = re.sub(r\"\\.(?=[0-9]|[a-z]|[A-Z])\",\" \", corpus_fr_test)\n",
    "corpus_fr_test = corpus_fr_test.split('\\n')\n",
    "\n",
    "#CLEANING THE FRENCH TEXT\n",
    "corpus_fr = eurotrain_fr\n",
    "corpus_fr = re.sub(r\"\\.(?=[0-9]|[a-z]|[A-Z])\",\" \", corpus_fr)\n",
    "corpus_fr = corpus_fr.split('\\n')"
   ]
  },
  {
   "cell_type": "code",
   "execution_count": 93,
   "id": "56596108",
   "metadata": {},
   "outputs": [
    {
     "data": {
      "text/plain": [
       "[\"David Gallo: This is Bill Lange. I'm Dave Gallo.\",\n",
       " \"And we're going to tell you some stories from the sea here in video.\",\n",
       " \"We've got some of the most incredible video of Titanic that's ever been seen, and we're not going to show you any of it.\",\n",
       " \"The truth of the matter is that the Titanic -- even though it's breaking all sorts of box office records -- it's not the most exciting story from the sea.\",\n",
       " 'And the problem, I think, is that we take the ocean for granted.',\n",
       " 'When you think about it, the oceans are 75 percent of the planet.',\n",
       " 'Most of the planet is ocean water.',\n",
       " 'The average depth is about two miles.',\n",
       " \"Part of the problem, I think, is we stand at the beach, or we see images like this of the ocean, and you look out at this great big blue expanse, and it's shimmering and it's moving and there's waves and there's surf and there's tides, but you have no idea for what lies in there.\",\n",
       " 'And in the oceans, there are the longest mountain ranges on the planet.']"
      ]
     },
     "execution_count": 93,
     "metadata": {},
     "output_type": "execute_result"
    }
   ],
   "source": [
    "corpus_en[:10]"
   ]
  },
  {
   "cell_type": "markdown",
   "id": "b6bfa05e",
   "metadata": {
    "id": "R_kPuNqqSDdB"
   },
   "source": [
    "### Building Vocabulary"
   ]
  },
  {
   "cell_type": "code",
   "execution_count": 5,
   "id": "8da02fc8",
   "metadata": {},
   "outputs": [],
   "source": [
    "# Tokenizer for English\n",
    "tokenizer_en = tfds.deprecated.text.SubwordTextEncoder.build_from_corpus(\n",
    "    corpus_en, target_vocab_size=2**13)### Building vocab using training set only\n",
    "\n",
    "# Tokenizer for French\n",
    "tokenizer_fr = tfds.deprecated.text.SubwordTextEncoder.build_from_corpus(\n",
    "    corpus_fr, target_vocab_size=2**13)"
   ]
  },
  {
   "cell_type": "code",
   "execution_count": 6,
   "id": "cb56d566",
   "metadata": {},
   "outputs": [],
   "source": [
    "VOCAB_SIZE_EN = tokenizer_en.vocab_size + 2 # = 8190\n",
    "VOCAB_SIZE_FR = tokenizer_fr.vocab_size + 2 # = 8171"
   ]
  },
  {
   "cell_type": "markdown",
   "id": "0e495f4d",
   "metadata": {
    "id": "HmW_BTl_F4gh"
   },
   "source": [
    "## Encoding train and test sets each set with the respective language tokenizer"
   ]
  },
  {
   "cell_type": "markdown",
   "id": "dab0145a",
   "metadata": {
    "id": "wMJw8gueFUuA"
   },
   "source": [
    "## Adding __\\<SOS\\>__ and __\\<EOS\\>__ tags\n",
    "- Adding the Start of Sentence and End of Sentence tags to the corpus is to indicate the transformer the beginning and end of sentence for better sequential data processing."
   ]
  },
  {
   "cell_type": "code",
   "execution_count": 7,
   "id": "0714caeb",
   "metadata": {},
   "outputs": [],
   "source": [
    "inputs = [[VOCAB_SIZE_EN-2] + tokenizer_en.encode(sentence) + [VOCAB_SIZE_EN-1] \n",
    "          for sentence in corpus_en]\n",
    "\n",
    "outputs = [[VOCAB_SIZE_FR-2] + tokenizer_fr.encode(sentence) + [VOCAB_SIZE_FR-1]\n",
    "           for sentence in corpus_fr]\n",
    "\n",
    "inputs_test = [[VOCAB_SIZE_EN-2] + tokenizer_en.encode(sentence) + [VOCAB_SIZE_EN-1]\n",
    "          for sentence in corpus_en_test]\n",
    "\n",
    "outputs_test = [[VOCAB_SIZE_FR-2] + tokenizer_fr.encode(sentence) + [VOCAB_SIZE_FR-1]\n",
    "           for sentence in corpus_fr_test]\n",
    "\n"
   ]
  },
  {
   "cell_type": "markdown",
   "id": "06e55ccb",
   "metadata": {
    "id": "HL-kWJatGBR4"
   },
   "source": [
    "# Removing very long sentences"
   ]
  },
  {
   "cell_type": "code",
   "execution_count": 9,
   "id": "0d4246b1",
   "metadata": {},
   "outputs": [],
   "source": [
    "# Removing very long sentencesMAX_LENGTH = 40\n",
    "# Use enumerate to capture indexes\n",
    "idx_to_remove = [count for count, sent in enumerate(inputs)\n",
    "                 if len(sent) > MAX_LENGTH]\n",
    "\n",
    "# Remove long sentences by index\n",
    "for idx in reversed(idx_to_remove):\n",
    "    del inputs[idx]\n",
    "    del outputs[idx]\n",
    "\n",
    "# Rinse and repeate!    \n",
    "idx_to_remove = [count for count, sent in enumerate(outputs)\n",
    "                 if len(sent) > MAX_LENGTH]\n",
    "\n",
    "for idx in reversed(idx_to_remove):\n",
    "    del inputs[idx]\n",
    "    del outputs[idx]\n",
    "    \n",
    "idx_to_remove = [count for count, sent in enumerate(inputs_test)\n",
    "                 if len(sent) > MAX_LENGTH]\n",
    "\n",
    "# Remove long sentences by index\n",
    "for idx in reversed(idx_to_remove):\n",
    "    del inputs_test[idx]\n",
    "    del outputs_test[idx]\n",
    "\n",
    "# Rinse and repeate!    \n",
    "idx_to_remove = [count for count, sent in enumerate(outputs_test)\n",
    "                 if len(sent) > MAX_LENGTH]\n",
    "\n",
    "for idx in reversed(idx_to_remove):\n",
    "    del inputs_test[idx]\n",
    "    del outputs_test[idx]"
   ]
  },
  {
   "cell_type": "markdown",
   "id": "4878cdff",
   "metadata": {
    "id": "NmcPrymHGHLM"
   },
   "source": [
    "# Padding the sentences"
   ]
  },
  {
   "cell_type": "code",
   "execution_count": 10,
   "id": "9349675c",
   "metadata": {},
   "outputs": [],
   "source": [
    "inputs = tf.keras.preprocessing.sequence.pad_sequences(inputs,\n",
    "                                                       value=0,\n",
    "                                              # Padding the sentences         padding='post',\n",
    "                                                       maxlen=MAX_LENGTH)\n",
    "\n",
    "outputs = tf.keras.preprocessing.sequence.pad_sequences(outputs,\n",
    "                                                        value=0,\n",
    "                                                        padding='post',\n",
    "                                                        maxlen=MAX_LENGTH)\n",
    "inputs_test = tf.keras.preprocessing.sequence.pad_sequences(inputs_test,\n",
    "                                                       value=0,\n",
    "                                                       padding='post',\n",
    "                                                       maxlen=MAX_LENGTH)\n",
    "\n",
    "outputs_test = tf.keras.preprocessing.sequence.pad_sequences(outputs_test,\n",
    "                                                        value=0,\n",
    "                                                        padding='post',\n",
    "                                                        maxlen=MAX_LENGTH)"
   ]
  },
  {
   "cell_type": "markdown",
   "id": "ed9eed32",
   "metadata": {
    "id": "lMZ6JucFGOJr"
   },
   "source": [
    "# Creation of train and test Datasets (tf.data.Dataset)"
   ]
  },
  {
   "cell_type": "code",
   "execution_count": 11,
   "id": "bb860d90",
   "metadata": {},
   "outputs": [],
   "source": [
    "BATCH_SIZE = 64\n",
    "BUFFER_SIZE = 20000# Creation of Datasets (tf.data.Dataset)\n",
    "\n",
    "dataset = tf.data.Dataset.from_tensor_slices((inputs, outputs))\n",
    "\n",
    "dataset = dataset.cache()\n",
    "dataset = dataset.shuffle(BUFFER_SIZE).batch(BATCH_SIZE)\n",
    "dataset = dataset.prefetch(tf.data.experimental.AUTOTUNE)\n",
    "\n",
    "\n",
    "dataset_test = tf.data.Dataset.from_tensor_slices((inputs_test, outputs_test))\n",
    "\n",
    "dataset_test = dataset_test.cache()\n",
    "dataset_test = dataset_test.shuffle(BUFFER_SIZE).batch(BATCH_SIZE)\n",
    "dataset_test = dataset_test.prefetch(tf.data.experimental.AUTOTUNE)"
   ]
  },
  {
   "cell_type": "markdown",
   "id": "10c6b300",
   "metadata": {
    "id": "FvQHNdMWGUBh"
   },
   "source": [
    "# Postional Encoding\n",
    "> Q. Why do transformers use positional encodings in addition to word\n",
    "embeddings? Explain how positional encodings are incorporated into the\n",
    "transformer architecture. <br><br>\n",
    "> A. The order of the words in a sentence is important to understand it correctly. The transformer model receives the words all at once, and not sequentially. So positional encodings (PE) are responsible for capturing this order information. PEs are concatated with the word embeddings for the transformer to not only understand the meaning of each word, but also their order in the sequence."
   ]
  },
  {
   "cell_type": "code",
   "execution_count": 12,
   "id": "4920323f",
   "metadata": {},
   "outputs": [],
   "source": [
    "class PositionalEncoding(layers.Layer):\n",
    "\n",
    "    def __init__(self):\n",
    "        super(PositionalEncoding, self).__init__()\n",
    "    \n",
    "    def get_angles(self, pos, i, d_model):\n",
    "        '''# Postional Encoding\n",
    "> Q. Why do transformers use positional encodings in addition to word\n",
    "embeddings? Explain how positional encodings are incorporated into the\n",
    "transformer architecture. <br><br>\n",
    "> A. The order of the words in a sentence is important to understand it correctly. The transformer model receives the words all at once, and not sequentially. So positional encodings (PE) are responsible for capturing this order information. PEs are concatated with the word embeddings for the transformer to not only understand the meaning of each word, but also their order in the sequence.\n",
    "        pos     - (seq_length, 1) matrix\n",
    "        i       - (1, d_model) matrix\n",
    "        d_model - the size of the embedding vectors\n",
    "        '''\n",
    "        angles = 1 / np.power(10000., (2*(i//2)) / np.float32(d_model))\n",
    "        return pos * angles\n",
    "\n",
    "    def call(self, inputs):\n",
    "        ''' \n",
    "        inputs - the word embeddings - (batch_size, seq_length, d_model)\n",
    "        '''\n",
    "        seq_length = inputs.shape.as_list()[-2]\n",
    "        d_model = inputs.shape.as_list()[-1]\n",
    "        \n",
    "        angles = self.get_angles(np.arange(seq_length)[:, np.newaxis],\n",
    "                                 np.arange(d_model)[np.newaxis, :],\n",
    "                                 d_model)\n",
    "        \n",
    "        # Interleve the results of sine and cosine funtions along the embedding vectors\n",
    "        angles[:, 0::2] = np.sin(angles[:, 0::2])\n",
    "        angles[:, 1::2] = np.cos(angles[:, 1::2])\n",
    "        \n",
    "        # Add dimension for batch_size\n",
    "        pos_encoding = angles[np.newaxis, ...]\n",
    "        return inputs + tf.cast(pos_encoding, tf.float32)"
   ]
  },
  {
   "cell_type": "markdown",
   "id": "c20e4eca",
   "metadata": {
    "id": "UqFc305aHnHF"
   },
   "source": [
    "## Calculating attention and attention matrix"
   ]
  },
  {
   "cell_type": "code",
   "execution_count": 13,
   "id": "3cb503e5",
   "metadata": {},
   "outputs": [],
   "source": [
    "#\n",
    "# Calculate attention\n",
    "### Calculating attention and attention matrix## Multi Head Attention\n",
    "\n",
    "> Q. What is the purpose of self-attention, and how does it facilitate capturing\n",
    "dependencies in sequences? <br> <br>\n",
    "> A. As you read a book, your brain pays more \"attention\" to certain words when trying to understand the meaning of a sentence. Instead of focusing on pronouns (such as he/she) or articles (such as they/them), you focus on adverbs, adjectives, proper nouns, etc., This is the idea behind self attention in a Transformer model. It \"weighs\" the importance of words in a sequence when processing each word. This way, the model can capture dependencies between words regardless of their distance from each other in the sequence.\n",
    "\n",
    "\n",
    "def scaled_dot_product_attention(queries, keys, values, mask):\n",
    "    '''\n",
    "    Takes three vectors and mask\n",
    "    Returns the attention and attention weights\n",
    "    '''    \n",
    "    # The steps describe above under 'Calculate the Attention' \n",
    "    # Step 1 \n",
    "    product = tf.matmul(queries, keys, transpose_b=True)\n",
    "    \n",
    "    # Step 2\n",
    "    keys_dim = tf.cast(tf.shape(keys)[-1], tf.float32)\n",
    "    scaled_product = product / tf.math.sqrt(keys_dim)\n",
    "    \n",
    "    if mask is not None:\n",
    "        scaled_product += (mask * -1e9)\n",
    "    \n",
    "    # step 4\n",
    "    attention_weights =tf.nn.softmax(scaled_product, axis=-1)\n",
    "    \n",
    "    # Step 5\n",
    "    attention = tf.matmul(attention_weights, values)\n",
    "    \n",
    "    return attention, attention_weights"
   ]
  },
  {
   "cell_type": "markdown",
   "id": "22ae708e",
   "metadata": {
    "id": "1KNQg0e_HzLc"
   },
   "source": [
    "## Multi Head Attention\n",
    "\n",
    "> Q. What is the purpose of self-attention, and how does it facilitate capturing\n",
    "dependencies in sequences? <br> <br>\n",
    "> A. As you read a book, your brain pays more \"attention\" to certain words when trying to understand the meaning of a sentence. Instead of focusing on pronouns (such as he/she) or articles (such as they/them), you focus on adverbs, adjectives, proper nouns, etc., This is the idea behind self attention in a Transformer model. It \"weighs\" the importance of words in a sequence when processing each word. This way, the model can capture dependencies between words regardless of their distance from each other in the sequence.\n",
    "\n"
   ]
  },
  {
   "cell_type": "code",
   "execution_count": 14,
   "id": "62a0b891",
   "metadata": {},
   "outputs": [],
   "source": [
    "class MultiHeadAttention(layers.Layer):\n",
    "    \n",
    "    # nb_proj is the number of heads\n",
    "    def __init__(self, nb_proj):\n",
    "        super(MultiHeadAttention, self).__init__()\n",
    "        self.nb_proj = nb_proj\n",
    "        \n",
    "    def build(self, input_shape): \n",
    "        self.d_model = input_shape[-1]\n",
    "        assert self.d_model % self.nb_proj == 0\n",
    "        \n",
    "        # Calculate the head dimensions.\n",
    "        self.d_proj = self.d_model // self.nb_proj\n",
    "        \n",
    "        # These layers contain the weights for the linear transformations\n",
    "        self.query_lin = layers.Dense(units=self.d_model)\n",
    "        self.key_lin = layers.Dense(units=self.d_model)\n",
    "        self.value_lin = layers.Dense(units=self.d_model)\n",
    "        \n",
    "        # Used to transform after concatenating the weighted value vectors\n",
    "        self.final_lin = layers.Dense(units=self.d_model)\n",
    "    \n",
    "    # This method splits the query, key, and value vectors by the number of heads\n",
    "    def split_proj(self, inputs, batch_size): # inputs: (batch_size, seq_length, d_model)\n",
    "        shape = (batch_size,\n",
    "                 -1,\n",
    "                 self.nb_proj,\n",
    "                 self.d_proj)\n",
    "        \n",
    "        # Reshape the tensor to account for the multiple heads and reduced vector dimension\n",
    "        splited_inputs = tf.reshape(inputs, shape=shape) # (batch_size, seq_length, nb_proj, d_proj)\n",
    "        \n",
    "        # Reconfigure the axeses.\n",
    "        return tf.transpose(splited_inputs, perm=[0, 2, 1, 3]) # (batch_size, nb_proj, seq_length, d_proj)\n",
    "    \n",
    "    def call(self, queries, keys, values, mask):\n",
    "        '''\n",
    "        If this is the first attention layer of the encoder, then all vector inputs are the same vector.\n",
    "        For later layers, this is the output of the previous layer.\n",
    "        For the decoder, keys and values are the output of the encoder. \n",
    "            The queries is the inferred words up to this time step.        \n",
    "        '''\n",
    "        batch_size = tf.shape(queries)[0]\n",
    "        \n",
    "        # Initialize the weight matrices\n",
    "        queries = self.query_lin(queries)\n",
    "        keys = self.key_lin(keys)\n",
    "        values = self.value_lin(values)\n",
    "        \n",
    "        # Split the vectors by number of heads\n",
    "        queries = self.split_proj(queries, batch_size)\n",
    "        keys = self.split_proj(keys, batch_size)\n",
    "        values = self.split_proj(values, batch_size)\n",
    "        \n",
    "        # Get attention and weights\n",
    "        attention, attention_weights = scaled_dot_product_attention(queries,\n",
    "                                                                    keys,\n",
    "                                                                    values,\n",
    "                                                                    mask)\n",
    "        # Flip dims 1 and 2       \n",
    "        attention = tf.transpose(attention, perm=[0, 2, 1, 3])\n",
    "        \n",
    "        # Concat all the attention vectors\n",
    "        concat_attention = tf.reshape(attention,\n",
    "                                      shape=(batch_size, -1, self.d_model))\n",
    "        \n",
    "        # Transform the concated vectors to reshape back to (batch_size, seq_length, d_model)\n",
    "        outputs = self.final_lin(concat_attention)\n",
    "        \n",
    "        return outputs, attention_weights"
   ]
  },
  {
   "cell_type": "markdown",
   "id": "52f2a30f",
   "metadata": {
    "id": "c7zcjOVPJIq4"
   },
   "source": [
    "## Building the encoder layer"
   ]
  },
  {
   "cell_type": "code",
   "execution_count": 15,
   "id": "fbb828a4",
   "metadata": {},
   "outputs": [],
   "source": [
    "class EncoderLayer(layers.Layer):## Building the encoder layer\n",
    "    \n",
    "    def __init__(self, FFN_units, nb_proj, dropout_rate):        \n",
    "    \n",
    "        super(EncoderLayer, self).__init__()\n",
    "        self.FFN_units = FFN_units\n",
    "        self.nb_proj = nb_proj\n",
    "        self.dropout_rate = dropout_rate\n",
    "    \n",
    "    # This is a tensorflow layers method. Automatically called by __call__\n",
    "    # to automatically build the layers.\n",
    "    def build(self, input_shape):\n",
    "        \n",
    "        self.d_model = input_shape[-1]\n",
    "    \n",
    "        # Multi-head attention\n",
    "        self.multi_head_attention = MultiHeadAttention(self.nb_proj)\n",
    "        self.dropout_1 = layers.Dropout(rate=self.dropout_rate)\n",
    "        self.norm_1 = layers.LayerNormalization(epsilon=1e-6)\n",
    "        \n",
    "        # Point wise feed forward\n",
    "        self.dense_1 = layers.Dense(units=self.FFN_units, activation=\"relu\")\n",
    "        self.dense_2 = layers.Dense(units=self.d_model)\n",
    "        self.dropout_2 = layers.Dropout(rate=self.dropout_rate)\n",
    "        self.norm_2 = layers.LayerNormalization(epsilon=1e-6)\n",
    "        \n",
    "    def call(self, inputs, mask, training):\n",
    "        '''\n",
    "        inputs   -> Input tensor of shape (batch_size, seq_length, d_model)\n",
    "        mask     -> Padding mask to ignore padding zeros as data\n",
    "        training -> Boolean - If 1, then use dropout, else not\n",
    "        '''\n",
    "        # Attention sub-layer\n",
    "        # Retain only the attention. Don't need to return weights in this layer.\n",
    "        attention, _ = self.multi_head_attention(inputs,\n",
    "                                                 inputs,\n",
    "                                                 inputs,\n",
    "                                                 mask)\n",
    "        attention = self.dropout_1(attention, training=training)\n",
    "        attention = self.norm_1(attention + inputs)\n",
    "        \n",
    "        # Point-Wise Feed Forward sub-layer\n",
    "        outputs = self.dense_1(attention)\n",
    "        outputs = self.dense_2(outputs)\n",
    "        outputs = self.dropout_2(outputs, training=training)\n",
    "        outputs = self.norm_2(outputs + attention)\n",
    "        \n",
    "        # Returns tensor of shape (batch_size, seq_length, d_model)\n",
    "        return outputs"
   ]
  },
  {
   "cell_type": "markdown",
   "id": "6ea643c2",
   "metadata": {
    "id": "RrOsnQQtJMb2"
   },
   "source": [
    "# The Encoder stack"
   ]
  },
  {
   "cell_type": "code",
   "execution_count": 16,
   "id": "9e84b31d",
   "metadata": {},
   "outputs": [],
   "source": [
    "class Encoder(layers.Layer):\n",
    "    '''\n",
    "    nb_layers    -> Number of encoder layers\n",
    "    FFN_units    -> Number of nodes in the FFN\n",
    "    nb_proj      -> Number of attention heads\n",
    "    dropout_rate -> Droput rate# The Encoder stack\n",
    "    vocab_size   -> The size of the vocabulary\n",
    "    d_model      -> Size of embedding vectors\n",
    "    name         -> Name of the layer\n",
    "    '''    \n",
    "    def __init__(self,\n",
    "                 nb_layers,\n",
    "                 FFN_units,\n",
    "                 nb_proj,\n",
    "                 dropout_rate,\n",
    "                 vocab_size,\n",
    "                 d_model,\n",
    "                 name=\"encoder\"):\n",
    "        super(Encoder, self).__init__(name=name)\n",
    "        \n",
    "        # Number of encoder layers\n",
    "        self.nb_layers = nb_layers\n",
    "        # Embedding dimension\n",
    "        self.d_model = d_model\n",
    "        \n",
    "        # Initialize embedding, positional encoding, droppout, and encoding layers\n",
    "        self.embedding = layers.Embedding(vocab_size, d_model)\n",
    "        self.pos_encoding = PositionalEncoding()\n",
    "        self.dropout = layers.Dropout(rate=dropout_rate)\n",
    "        self.enc_layers = [EncoderLayer(FFN_units,\n",
    "                                        nb_proj,\n",
    "                                        dropout_rate) \n",
    "                           for _ in range(nb_layers)]\n",
    "    \n",
    "    def call(self, inputs, mask, training):\n",
    "        '''\n",
    "        inputs   -> Tokenized input of shape (batch_size, seq_length)\n",
    "        mask     -> Attention mask\n",
    "        training -> Boolean\n",
    "        '''\n",
    "        outputs = self.embedding(inputs)\n",
    "        outputs *= tf.math.sqrt(tf.cast(self.d_model, tf.float32))\n",
    "        outputs = self.pos_encoding(outputs)\n",
    "        outputs = self.dropout(outputs, training)\n",
    "        \n",
    "        # Forward pass\n",
    "        for i in range(self.nb_layers):\n",
    "            outputs = self.enc_layers[i](outputs, mask, training)\n",
    "\n",
    "        # Returns tensor of shape (batch_size, seq_length, d_model)\n",
    "        return outputs"
   ]
  },
  {
   "cell_type": "markdown",
   "id": "c3126e5d",
   "metadata": {
    "id": "cdR-lsJ7JPDd"
   },
   "source": [
    "## Buidling the Decoder Layer"
   ]
  },
  {
   "cell_type": "code",
   "execution_count": 17,
   "id": "15ceafb5",
   "metadata": {},
   "outputs": [],
   "source": [
    "class DecoderLayer(layers.Layer):\n",
    "    '''## Buidling the Decoder Layer\n",
    "    FFN-units    -> # of nodes for the point wise feed forward layer\n",
    "    nb_proj      -> # of heads\n",
    "    dropout_rate -> The dropout rate for the layers\n",
    "    '''\n",
    "    def __init__(self, FFN_units, nb_proj, dropout_rate):\n",
    "        super(DecoderLayer, self).__init__()\n",
    "        self.FFN_units = FFN_units\n",
    "        self.nb_proj = nb_proj\n",
    "        self.dropout_rate = dropout_rate\n",
    "    \n",
    "    def build(self, input_shape):\n",
    "        self.d_model = input_shape[-1]\n",
    "        \n",
    "        # Masked Multi-head attention layer\n",
    "        self.multi_head_attention_1 = MultiHeadAttention(self.nb_proj)\n",
    "        self.dropout_1 = layers.Dropout(rate=self.dropout_rate)\n",
    "        self.norm_1 = layers.LayerNormalization(epsilon=1e-6)\n",
    "        \n",
    "        # encoder-decoder Multi-head attention\n",
    "        self.multi_head_attention_2 = MultiHeadAttention(self.nb_proj)\n",
    "        self.dropout_2 = layers.Dropout(rate=self.dropout_rate)\n",
    "        self.norm_2 = layers.LayerNormalization(epsilon=1e-6)\n",
    "        \n",
    "        # Feed foward\n",
    "        self.dense_1 = layers.Dense(units=self.FFN_units,\n",
    "                                    activation=\"relu\")\n",
    "        self.dense_2 = layers.Dense(units=self.d_model)\n",
    "        self.dropout_3 = layers.Dropout(rate=self.dropout_rate)\n",
    "        self.norm_3 = layers.LayerNormalization(epsilon=1e-6)\n",
    "        \n",
    "    def call(self, inputs, enc_outputs, mask_1, mask_2, training):\n",
    "        '''\n",
    "        input       -> Decoder output\n",
    "        enc_outputs -> Encoder output\n",
    "        mask_1      -> Look-ahead mask\n",
    "        mask_2      -> Padding mask\n",
    "        training    -> Boolean for dropout\n",
    "        '''\n",
    "        # Masked Multi-head attention layer \n",
    "        # Return attention, attention weights\n",
    "        attention, attn_wt_1 = self.multi_head_attention_1(inputs,\n",
    "                                                           inputs,\n",
    "                                                           inputs,\n",
    "                                                           mask_1)\n",
    "        attention = self.dropout_1(attention, training)\n",
    "        attention = self.norm_1(attention + inputs)\n",
    "        \n",
    "        # Encoder-Decoder Multi-head attention layer \n",
    "        # Return attention, attention weights\n",
    "        attention_2, attn_wt_2 = self.multi_head_attention_2(attention,\n",
    "                                                             enc_outputs,\n",
    "                                                             enc_outputs,\n",
    "                                                             mask_2)\n",
    "        attention_2 = self.dropout_2(attention_2, training)\n",
    "        attention_2 = self.norm_2(attention_2 + attention)\n",
    "        \n",
    "        # FNN\n",
    "        outputs = self.dense_1(attention_2)\n",
    "        outputs = self.dense_2(outputs)\n",
    "        outputs = self.dropout_3(outputs, training)\n",
    "        outputs = self.norm_3(outputs + attention_2)\n",
    "        \n",
    "        # Return attention vector, attention weights for each attention layer\n",
    "        return outputs, attn_wt_1, attn_wt_2"
   ]
  },
  {
   "cell_type": "markdown",
   "id": "7732c0eb",
   "metadata": {
    "id": "dZhvRymNJR7Y"
   },
   "source": [
    "## The Decoder layer"
   ]
  },
  {
   "cell_type": "code",
   "execution_count": 18,
   "id": "8f329fd6",
   "metadata": {},
   "outputs": [],
   "source": [
    "class Decoder(layers.Layer):\n",
    "    '''## The Decoder layer\n",
    "    nb_layers    -> Number of encoder layers\n",
    "    FFN_units    -> Number of nodes in the FFN\n",
    "    nb_proj      -> Number of attention heads\n",
    "    dropout_rate -> Droput rate\n",
    "    vocab_size   -> The size of the vocabulary\n",
    "    d_model      -> Size of embedding vectors\n",
    "    name         -> Name of the layer\n",
    "    '''    \n",
    "    def __init__(self,\n",
    "                 nb_layers,\n",
    "                 FFN_units,\n",
    "                 nb_proj,\n",
    "                 dropout_rate,\n",
    "                 vocab_size,\n",
    "                 d_model,\n",
    "                 name=\"decoder\"):\n",
    "        super(Decoder, self).__init__(name=name)\n",
    "        self.d_model = d_model\n",
    "        self.nb_layers = nb_layers\n",
    "        \n",
    "        self.embedding = layers.Embedding(vocab_size, d_model)\n",
    "        self.pos_encoding = PositionalEncoding()\n",
    "        self.dropout = layers.Dropout(rate=dropout_rate)\n",
    "        \n",
    "        # Initialize the decoder layers.\n",
    "        self.dec_layers = [DecoderLayer(FFN_units,\n",
    "                                        nb_proj,\n",
    "                                        dropout_rate) \n",
    "                           for i in range(nb_layers)]\n",
    "    \n",
    "    def call(self, inputs, enc_outputs, mask_1, mask_2, training):\n",
    "        '''\n",
    "        input       -> Decoder output\n",
    "        enc_outputs -> Encoder output\n",
    "        mask_1      -> Look-ahead mask\n",
    "        mask_2      -> Padding mask\n",
    "        training    -> Boolean for dropout\n",
    "        '''\n",
    "        outputs = self.embedding(inputs)\n",
    "        outputs *= tf.math.sqrt(tf.cast(self.d_model, tf.float32))\n",
    "        outputs = self.pos_encoding(outputs)\n",
    "        outputs = self.dropout(outputs, training)\n",
    "        \n",
    "        # Iterate over the decoder layers.\n",
    "        for i in range(self.nb_layers):\n",
    "            \n",
    "            attention_weights = {}\n",
    "\n",
    "            # Block 1 and block2 are the attention weights from each attention head of the layer\n",
    "            outputs, block1, block2 = self.dec_layers[i](outputs, enc_outputs, mask_1, mask_2, training)\n",
    "            \n",
    "            attention_weights['decoder_layer{}_block1'.format(i+1)] = block1\n",
    "            attention_weights['decoder_layer{}_block2'.format(i+1)] = block2\n",
    "\n",
    "\n",
    "        return outputs, attention_weights"
   ]
  },
  {
   "cell_type": "markdown",
   "id": "97351adb",
   "metadata": {
    "id": "yc0ANSc0JYHQ"
   },
   "source": [
    "## Creating the Transformer Class"
   ]
  },
  {
   "cell_type": "code",
   "execution_count": 19,
   "id": "a3fef726",
   "metadata": {},
   "outputs": [],
   "source": [
    "class Transformer(tf.keras.Model):## Creating the Transformer Class\n",
    "    '''\n",
    "    vocab_size_enc -> Vocabulary size of the encoder input\n",
    "    vocab_size_dec -> Vocabulary size of the decoder input\n",
    "    d_model        -> Embedding size\n",
    "    nb_layers      -> Number of encoder and decoder layers\n",
    "    FFN_units      -> Noumber of nodes in the FNNs \n",
    "    nb_proj        -> Number of heads\n",
    "    dropout_rate   -> Dropout rate throught model\n",
    "    name           -> Layer name\n",
    "    '''    \n",
    "    def __init__(self,\n",
    "                 vocab_size_enc,\n",
    "                 vocab_size_dec,\n",
    "                 d_model,\n",
    "                 nb_layers,\n",
    "                 FFN_units,\n",
    "                 nb_proj,\n",
    "                 dropout_rate,\n",
    "                 name=\"transformer\"):\n",
    "        super(Transformer, self).__init__(name=name)\n",
    "        \n",
    "        self.encoder = Encoder(nb_layers,\n",
    "                               FFN_units,\n",
    "                               nb_proj,\n",
    "                               dropout_rate,\n",
    "                               vocab_size_enc,\n",
    "                               d_model)\n",
    "        \n",
    "        self.decoder = Decoder(nb_layers,\n",
    "                               FFN_units,\n",
    "                               nb_proj,\n",
    "                               dropout_rate,\n",
    "                               vocab_size_dec,\n",
    "                               d_model)\n",
    "        \n",
    "        self.last_linear = layers.Dense(units=vocab_size_dec, name=\"lin_ouput\")\n",
    "    \n",
    "    def create_padding_mask(self, seq):\n",
    "        \n",
    "        mask = tf.cast(tf.math.equal(seq, 0), tf.float32)\n",
    "        return mask[:, tf.newaxis, tf.newaxis, :]\n",
    "\n",
    "    def create_look_ahead_mask(self, seq):\n",
    "        \n",
    "        seq_len = tf.shape(seq)[1]\n",
    "        look_ahead_mask = 1 - tf.linalg.band_part(tf.ones((seq_len, seq_len)), -1, 0)\n",
    "        return look_ahead_mask\n",
    "    \n",
    "    def call(self, enc_inputs, dec_inputs, training):\n",
    "        \n",
    "        enc_mask = self.create_padding_mask(enc_inputs)\n",
    "        dec_mask_1 = tf.maximum(\n",
    "            self.create_padding_mask(dec_inputs),\n",
    "            self.create_look_ahead_mask(dec_inputs)\n",
    "        )\n",
    "        dec_mask_2 = self.create_padding_mask(enc_inputs)\n",
    "        \n",
    "        # encoder output\n",
    "        enc_outputs = self.encoder(enc_inputs, enc_mask, training)\n",
    "        \n",
    "        # dec_outputs, attention_weights\n",
    "        dec_outputs, attention_weights = self.decoder(dec_inputs,\n",
    "                                                      enc_outputs,\n",
    "                                                      dec_mask_1,\n",
    "                                                      dec_mask_2,\n",
    "                                                      training)\n",
    "        \n",
    "        # This is the prediction\n",
    "        outputs = self.last_linear(dec_outputs)\n",
    "        \n",
    "        # Return prediction (batch_size, tar_seq_len, target_vocab_size), and attention_weight matrix\n",
    "        return outputs, attention_weights"
   ]
  },
  {
   "cell_type": "markdown",
   "id": "87142e0c",
   "metadata": {
    "id": "MEJtk_NWJiAX"
   },
   "source": [
    "## Defining Hyperparameters before training\n",
    "\n",
    "- The comments next to the values are the orginal values used in the paper __Attention is all you need__"
   ]
  },
  {
   "cell_type": "code",
   "execution_count": 20,
   "id": "d72623dd",
   "metadata": {},
   "outputs": [],
   "source": [
    "tf.keras.backend.clear_session()\n",
    "## Defining Hyperparameters before training\n",
    "\n",
    "- The comments next to the values are the orginal values used in the paper __Attention is all you need__\n",
    "# Hyper-parameters\n",
    "D_MODEL = 128 # 512\n",
    "NB_LAYERS = 4 # 6\n",
    "FFN_UNITS = 512 # 2048\n",
    "NB_PROJ = 8 # 8\n",
    "DROPOUT_RATE = 0.1 # 0.1\n",
    "\n",
    "# Initialize the transformer\n",
    "transformer = Transformer(vocab_size_enc=VOCAB_SIZE_EN,\n",
    "                          vocab_size_dec=VOCAB_SIZE_FR,\n",
    "                          d_model=D_MODEL,\n",
    "                          nb_layers=NB_LAYERS,\n",
    "                          FFN_units=FFN_UNITS,\n",
    "                          nb_proj=NB_PROJ,\n",
    "                          dropout_rate=DROPOUT_RATE)"
   ]
  },
  {
   "cell_type": "markdown",
   "id": "ac8a0a64",
   "metadata": {
    "id": "yh17vAC-Jy_D"
   },
   "source": [
    "## Defining LOSS function"
   ]
  },
  {
   "cell_type": "code",
   "execution_count": 21,
   "id": "892417ce",
   "metadata": {},
   "outputs": [],
   "source": [
    "loss_object = tf.keras.losses.SparseCategoricalCrossentropy(from_logits=True,\n",
    "                                                      ## Defining LOSS function      reduction=\"none\")\n",
    "\n",
    "def loss_function(target, pred):\n",
    "    mask = tf.math.logical_not(tf.math.equal(target, 0))\n",
    "    loss_ = loss_object(target, pred)\n",
    "    \n",
    "    mask = tf.cast(mask, dtype=loss_.dtype)\n",
    "    loss_ *= mask\n",
    "    \n",
    "    return tf.reduce_mean(loss_)\n",
    "\n",
    "train_loss = tf.keras.metrics.Mean(name=\"train_loss\")\n",
    "train_accuracy = tf.keras.metrics.SparseCategoricalAccuracy(name=\"train_accuracy\")\n",
    "\n",
    "test_loss = tf.keras.metrics.Mean(name=\"test_loss\")\n",
    "test_accuracy = tf.keras.metrics.SparseCategoricalAccuracy(name=\"test_accuracy\")"
   ]
  },
  {
   "cell_type": "markdown",
   "id": "581fce32",
   "metadata": {
    "id": "yiLtsDqfJ2Pw"
   },
   "source": [
    "## Defining a custom learning rate"
   ]
  },
  {
   "cell_type": "code",
   "execution_count": 22,
   "id": "2ae1296c",
   "metadata": {},
   "outputs": [],
   "source": [
    "class CustomSchedule(tf.keras.optimizers.schedules.LearningRateSchedule):## Defining a custom learning rate\n",
    "    \n",
    "    def __init__(self, d_model, warmup_steps=4000):\n",
    "        super(CustomSchedule, self).__init__()\n",
    "        \n",
    "        self.d_model = tf.cast(d_model, tf.float32)\n",
    "        self.warmup_steps = warmup_steps\n",
    "    \n",
    "    def __call__(self, step):\n",
    "        arg1 = tf.math.rsqrt(step)\n",
    "        arg2 = step * (self.warmup_steps**-1.5)\n",
    "        \n",
    "        return tf.math.rsqrt(self.d_model) * tf.math.minimum(arg1, arg2)\n",
    "\n",
    "leaning_rate = CustomSchedule(D_MODEL)\n",
    "\n",
    "# Use the Atom Optimizer\n",
    "optimizer = tf.keras.optimizers.Adam(leaning_rate,\n",
    "                                     beta_1=0.9,\n",
    "                                     beta_2=0.98,\n",
    "                                     epsilon=1e-9)"
   ]
  },
  {
   "cell_type": "code",
   "execution_count": 23,
   "id": "a023e0f3",
   "metadata": {},
   "outputs": [
    {
     "data": {
      "text/plain": [
       "Text(0.5, 0, 'Train Step')"
      ]
     },
     "execution_count": 23,
     "metadata": {},
     "output_type": "execute_result"
    },
    {
     "data": {
      "image/png": "[encoded data removed]",
      "text/plain": [
       "<Figure size 432x288 with 1 Axes>"
      ]
     },
     "metadata": {
      "needs_background": "light"
     },
     "output_type": "display_data"
    }
   ],
   "source": [
    "from matplotlib import pyplot as plt\n",
    "plt.plot(leaning_rate(tf.range(40000, dtype=tf.float32)))\n",
    "plt.ylabel(\"Learning Rate\")\n",
    "plt.xlabel(\"Train Step\")\n",
    "# plt.savefig(ROOT + '/data/lr.png')"
   ]
  },
  {
   "cell_type": "markdown",
   "id": "6373e0b9",
   "metadata": {
    "id": "AKwIsnpLJ7i_"
   },
   "source": [
    "## Begin the Training!"
   ]
  },
  {
   "cell_type": "code",
   "execution_count": 36,
   "id": "62cfee6e",
   "metadata": {},
   "outputs": [
    {
     "name": "stdout",
     "output_type": "stream",
     "text": [
      "Epoch: 1 Training Loss: 0.3179 Training Accuracy: 0.4377 \n",
      "Epoch: 2 Training Loss: 0.3042 Training Accuracy: 0.4412 \n",
      "Epoch: 3 Training Loss: 0.2939 Training Accuracy: 0.4435 \n",
      "Epoch: 4 Training Loss: 0.2844 Training Accuracy: 0.4460 \n",
      "Epoch: 5 Training Loss: 0.2728 Training Accuracy: 0.4492 \n",
      "Epoch: 6 Training Loss: 0.2641 Training Accuracy: 0.4510 \n",
      "Epoch: 7 Training Loss: 0.2548 Training Accuracy: 0.4536 \n",
      "Epoch: 8 Training Loss: 0.2459 Training Accuracy: 0.4558 \n",
      "Epoch: 9 Training Loss: 0.2398 Training Accuracy: 0.4576 \n",
      "Epoch: 10 Training Loss: 0.2328 Training Accuracy: 0.4591 \n"
     ]
    }
   ],
   "source": [
    "EPOCHS = 10\n",
    "train_loss_values=[]\n",
    "test_loss_values=[]\n",
    "\n",
    "train_acc_values=[]\n",
    "test_acc_values=[]## Begin the Training!\n",
    "\n",
    "for epoch in range(EPOCHS):\n",
    "#     print(\"Start of epoch {}\".format(epoch+1))\n",
    "    start = time.time()\n",
    "    \n",
    "    train_loss.reset_states()\n",
    "    train_accuracy.reset_states()\n",
    "    \n",
    "    for (batch, (enc_inputs, targets)) in enumerate(dataset):\n",
    "        \n",
    "        # Include the start token which shifts sequence to the right\n",
    "        dec_inputs = targets[:, :-1]\n",
    "        \n",
    "        # Target without the start token. The end token is included to know when the \n",
    "        # model reaches the end of the sequence\n",
    "        dec_outputs_real = targets[:, 1:]\n",
    "        \n",
    "        with tf.GradientTape() as tape:\n",
    "            predictions, _ = transformer(enc_inputs, dec_inputs, True)\n",
    "            loss = loss_function(dec_outputs_real, predictions)\n",
    "        \n",
    "        # Calculate and apply the gradients\n",
    "        gradients = tape.gradient(loss, transformer.trainable_variables)\n",
    "        optimizer.apply_gradients(zip(gradients, transformer.trainable_variables))\n",
    "        \n",
    "        train_loss(loss)\n",
    "        train_accuracy(dec_outputs_real, predictions)\n",
    "        \n",
    "#         if batch % 50 == 0:\n",
    "    print(\"Epoch: {} Training Loss: {:.4f} Training Accuracy: {:.4f} \".format(\n",
    "                epoch+1, train_loss.result(), train_accuracy.result()))\n",
    "    \n",
    "    train_loss_values.append(train_loss.result())\n",
    "    train_acc_values.append(train_accuracy.result())"
   ]
  },
  {
   "cell_type": "markdown",
   "id": "4d403656",
   "metadata": {},
   "source": [
    "# Defining Evaluation Fucntion"
   ]
  },
  {
   "cell_type": "code",
   "execution_count": 37,
   "id": "b0bca215",
   "metadata": {},
   "outputs": [],
   "source": [
    "def evaluate(inp_sentence):\n",
    "    '''\n",
    "    Takes the input sentence.\n",
    "    '''\n",
    "    inp_sentence = [VOCAB_SIZE_EN-2] + tokenizer_en.encode(inp_sentence) + [VOCAB_SIZE_EN-1]\n",
    "    \n",
    "    # Expand dims to account for batch_size\n",
    "    enc_input = tf.expand_dims(inp_sentence, axis=0)\n",
    "    \n",
    "    # Start with the s-o-s\n",
    "    output = tf.expand_dims([VOCAB_SIZE_FR-2], axis=0)\n",
    "    \n",
    "    for _ in range(MAX_LENGTH):\n",
    "        predictions, attention_weights = transformer(enc_input, output, False)\n",
    "        \n",
    "        prediction = predictions[:, -1:, :]\n",
    "#         print(predictions.shape)\n",
    "        # Get highest probability\n",
    "        predicted_id = tf.cast(tf.argmax(prediction, axis=-1), tf.int32)\n",
    "        \n",
    "        # If e-o-s return\n",
    "        if predicted_id == VOCAB_SIZE_FR-1:\n",
    "            return tf.squeeze(output, axis=0), attention_weights\n",
    "        \n",
    "        # Concat last prediction to decoder input\n",
    "        output = tf.concat([output, predicted_id], axis=-1)\n",
    "        \n",
    "    return tf.squeeze(output, axis=0), attention_weights"
   ]
  },
  {
   "cell_type": "markdown",
   "id": "84f7d0fa",
   "metadata": {},
   "source": [
    "# Defining a function to perform Translation"
   ]
  },
  {
   "cell_type": "code",
   "execution_count": 83,
   "id": "189ff09e",
   "metadata": {},
   "outputs": [],
   "source": [
    "def translate(sentence, plot=''):\n",
    "    #output, attention_weights\n",
    "    output, attention_weights = evaluate(sentence) #.numpy()\n",
    "#     print(f'wts shape: {attention_weights.keys()}')\n",
    "    output = output.numpy()\n",
    "    \n",
    "    predicted_sentence = tokenizer_fr.decode(\n",
    "        [i for i in output if i < VOCAB_SIZE_FR-2]\n",
    "    )\n",
    "    \n",
    "    print(\"Input_English_Sentence: {}\".format(sentence))\n",
    "    print(\"Predicted translation into French: {}\".format(predicted_sentence))\n",
    "#     return predicted_sentence"
   ]
  },
  {
   "cell_type": "markdown",
   "id": "afb90833",
   "metadata": {},
   "source": [
    "# Testing the translation from English to French"
   ]
  },
  {
   "cell_type": "code",
   "execution_count": 84,
   "id": "e5bb1bc7",
   "metadata": {},
   "outputs": [
    {
     "name": "stdout",
     "output_type": "stream",
     "text": [
      "Input_English_Sentence: my country is great\n",
      "Predicted translation into French: Mon pays est super.\n"
     ]
    }
   ],
   "source": [
    "translate(\"my country is great\")"
   ]
  },
  {
   "cell_type": "code",
   "execution_count": 85,
   "id": "97535ffc",
   "metadata": {},
   "outputs": [
    {
     "name": "stdout",
     "output_type": "stream",
     "text": [
      "Input_English_Sentence: When I was in my 20s, I saw my very first psychotherapy client.\n",
      "Predicted translation into French: Quand j'étais dans mon 20, j'ai vu mon premier domaine très rifié les autres,\n"
     ]
    }
   ],
   "source": [
    "translate(\"When I was in my 20s, I saw my very first psychotherapy client.\")"
   ]
  },
  {
   "cell_type": "markdown",
   "id": "ae2ba414",
   "metadata": {},
   "source": [
    "## Sample BLEU score calculation"
   ]
  },
  {
   "cell_type": "code",
   "execution_count": 90,
   "id": "ee25908b",
   "metadata": {},
   "outputs": [
    {
     "name": "stdout",
     "output_type": "stream",
     "text": [
      "The BLEU Score for the above translation is: 0.18669510440057904\n"
     ]
    }
   ],
   "source": [
    "##Bleu Score CAlculation\n",
    "\n",
    "target= \"Quand j'avais la vingtaine, j'ai vu mes tout premiers clients comme psychothérapeute.\"\n",
    "prediction = \"Quand j'étais dans mon 20, j'ai vu mon premier domaine très rifié les autres\"\n",
    "\n",
    "target_seq = tokenizer_fr.encode(target)\n",
    "target_tokens = [tokenizer_fr.decode([i]) for i in target_seq]\n",
    "\n",
    "pred_seq = tokenizer_fr.encode(prediction)\n",
    "preds = [tokenizer_fr.decode([i]) for i in pred_seq]\n",
    "\n",
    "print(f\"The BLEU Score for the above translation is: {sentence_bleu([target_tokens],preds)}\")\n"
   ]
  },
  {
   "cell_type": "markdown",
   "id": "5d2e58ff",
   "metadata": {},
   "source": [
    "# Ploting Train loss and Train Accuracy "
   ]
  },
  {
   "cell_type": "code",
   "execution_count": 45,
   "id": "70634211",
   "metadata": {},
   "outputs": [
    {
     "data": {
      "image/png": "[encoded data removed]",
      "text/plain": [
       "<Figure size 864x288 with 2 Axes>"
      ]
     },
     "metadata": {
      "needs_background": "light"
     },
     "output_type": "display_data"
    }
   ],
   "source": [
    "# Plotting\n",
    "plt.figure(figsize=(12, 4))\n",
    " \n",
    "# Plot Training Loss\n",
    "plt.subplot(1, 2, 1)\n",
    "plt.plot(train_loss_values, label='Training Loss')\n",
    "# plt.plot(val_loss_values, label='Validation Loss')\n",
    "plt.title('Training Loss')\n",
    "plt.xlabel('Epoch')\n",
    "plt.ylabel('Loss')\n",
    "plt.legend()\n",
    "\n",
    "plt.subplot(1, 2, 2)\n",
    "plt.plot(train_acc_values, label='Training Accuracy')\n",
    "# plt.plot(val_loss_values, label='Validation Loss')\n",
    "plt.title('Training Accuracy')\n",
    "plt.xlabel('Epoch')\n",
    "plt.ylabel('Accuracy')\n",
    "plt.legend()\n",
    "plt.show()"
   ]
  },
  {
   "cell_type": "markdown",
   "id": "320ff9ae",
   "metadata": {},
   "source": [
    "## Conclusion: The training loss is decreasing and training accuracy is increasing with the increase in the number of epochs. The BLEU score for a sample translated sentence is presented above. The model can perform better if trained for more epochs."
   ]
  }
 ],
 "metadata": {
  "kernelspec": {
   "display_name": "Python 3 (ipykernel)",
   "language": "python",
   "name": "python3"
  },
  "language_info": {
   "codemirror_mode": {
    "name": "ipython",
    "version": 3
   },
   "file_extension": ".py",
   "mimetype": "text/x-python",
   "name": "python",
   "nbconvert_exporter": "python",
   "pygments_lexer": "ipython3",
   "version": "3.9.12"
  }
 },
 "nbformat": 4,
 "nbformat_minor": 5
}
